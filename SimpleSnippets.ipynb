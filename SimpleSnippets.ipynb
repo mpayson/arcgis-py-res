{
 "cells": [
  {
   "cell_type": "markdown",
   "metadata": {},
   "source": [
    "# Simple Snippets"
   ]
  },
  {
   "cell_type": "code",
   "execution_count": 2,
   "metadata": {
    "collapsed": true
   },
   "outputs": [],
   "source": [
    "# COMMON, imports\n",
    "from arcgis.gis import *\n",
    "from arcgis.features import FeatureLayer"
   ]
  },
  {
   "cell_type": "markdown",
   "metadata": {},
   "source": [
    "### Log In"
   ]
  },
  {
   "cell_type": "code",
   "execution_count": null,
   "metadata": {
    "collapsed": true
   },
   "outputs": [],
   "source": [
    "gis = GIS(\"https://www.arcgis.com\", \"<UN>\", \"<PW>\")"
   ]
  },
  {
   "cell_type": "markdown",
   "metadata": {},
   "source": [
    "### Feature Layer: Get Schema\n",
    "[Feature Layer](http://esri.github.io/arcgis-python-api/apidoc/html/arcgis.features.toc.html#featurelayer) || [the Manager](http://esri.github.io/arcgis-python-api/apidoc/html/arcgis.features.managers.html?highlight=manager#featurelayermanager) || [About the schema](http://resources.arcgis.com/en/help/arcgis-rest-api/#/Layer/02r3000000w6000000/)"
   ]
  },
  {
   "cell_type": "code",
   "execution_count": null,
   "metadata": {
    "collapsed": true
   },
   "outputs": [],
   "source": [
    "fl_url = \"<URL>\"\n",
    "fl = FeatureLayer(fl_url, gis)\n",
    "fl.manager.properties #.fields for field schema"
   ]
  },
  {
   "cell_type": "markdown",
   "metadata": {},
   "source": [
    "### Feature Layer: Add Field\n",
    "[Feature Layer](http://esri.github.io/arcgis-python-api/apidoc/html/arcgis.features.toc.html#featurelayer) || [the Manager](http://esri.github.io/arcgis-python-api/apidoc/html/arcgis.features.managers.html?highlight=manager#featurelayermanager) || [About field types](http://pro.arcgis.com/en/pro-app/tool-reference/data-management/add-field.htm) || [Rest endpoint](http://resources.arcgis.com/en/help/arcgis-rest-api/#/Add_to_Definition_Feature_Layer/02r300000228000000/)"
   ]
  },
  {
   "cell_type": "code",
   "execution_count": null,
   "metadata": {
    "collapsed": true
   },
   "outputs": [],
   "source": [
    "fl_url = \"<URL>\"\n",
    "fl = FeatureLayer(fl_url, gis)\n",
    "\n",
    "new_field = {\n",
    "    \"name\": \"TEST_STR_FIELD\",\n",
    "    \"type\": \"esriFieldTypeString\",\n",
    "    \"alias\": \"TEST_STR_FIELD\",\n",
    "    \"length\": 256,\n",
    "    \"nullable\": True,\n",
    "    \"editable\": True,\n",
    "    \"visible\": True,\n",
    "    \"domain\": None\n",
    "}\n",
    "update_dict = {\"fields\": [new_field]}\n",
    "\n",
    "fl.manager.add_to_definition(update_dict)"
   ]
  }
 ],
 "metadata": {
  "kernelspec": {
   "display_name": "Python 3",
   "language": "python",
   "name": "python3"
  },
  "language_info": {
   "codemirror_mode": {
    "name": "ipython",
    "version": 3
   },
   "file_extension": ".py",
   "mimetype": "text/x-python",
   "name": "python",
   "nbconvert_exporter": "python",
   "pygments_lexer": "ipython3",
   "version": "3.6.3"
  }
 },
 "nbformat": 4,
 "nbformat_minor": 2
}
