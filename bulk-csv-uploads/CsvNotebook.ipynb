{
 "cells": [
  {
   "cell_type": "markdown",
   "metadata": {},
   "source": [
    "### A notebook to upload all csvs in a directory to layers in your GIS"
   ]
  },
  {
   "cell_type": "code",
   "execution_count": 1,
   "metadata": {
    "collapsed": true
   },
   "outputs": [],
   "source": [
    "import os\n",
    "import pandas as pd\n",
    "from arcgis.gis import *\n",
    "from arcgis.features import SpatialDataFrame\n",
    "from arcgis.geometry import Point"
   ]
  },
  {
   "cell_type": "code",
   "execution_count": null,
   "metadata": {
    "collapsed": true
   },
   "outputs": [],
   "source": [
    "# config fields\n",
    "# dir_path: path to directory with CSVs\n",
    "# coord_fields: map Point fields to csv columns\n",
    "dir_path = \"<DIRECTORY PATH>\"\n",
    "coord_fields = {\n",
    "    \"x\": \"<X COLUMN>\",\n",
    "    \"y\": \"<Y COLUMN>\",\n",
    "    #\"z\": \"<Z COLUMN (optional)>\"\n",
    "}"
   ]
  },
  {
   "cell_type": "code",
   "execution_count": 2,
   "metadata": {
    "collapsed": true
   },
   "outputs": [],
   "source": [
    "gis = GIS(\"https://www.arcgis.com\", \"<USERNAME>\", \"<PASSWORD>\")"
   ]
  },
  {
   "cell_type": "code",
   "execution_count": null,
   "metadata": {
    "collapsed": true
   },
   "outputs": [],
   "source": [
    "# create a new folder in the GIS to store the layers\n",
    "folder = os.path.basename(dir_path)\n",
    "gis_folder = gis.content.create_folder(folder)"
   ]
  },
  {
   "cell_type": "code",
   "execution_count": 3,
   "metadata": {
    "collapsed": true
   },
   "outputs": [],
   "source": [
    "# get an array of all the csvs in the directory\n",
    "csvs = [file for file in os.listdir(dir_path) if file.endswith('.csv')]\n",
    "csv_paths = [os.path.join(dir_path, csv) for csv in csvs]\n",
    "n_paths = len(csv_paths)\n",
    "print(\"Pushing {0} csvs\".format(n_paths))"
   ]
  },
  {
   "cell_type": "code",
   "execution_count": 4,
   "metadata": {
    "collapsed": true
   },
   "outputs": [],
   "source": [
    "# construct a point from a dataframe row\n",
    "def get_point_for_row(row, coord_fields):\n",
    "    p_dict = {}\n",
    "    p_dict['x'] = row[coord_fields['x']]\n",
    "    p_dict['y'] = row[coord_fields['y']]\n",
    "    if 'z' in coord_fields and coord_fields['z']:\n",
    "        p_dict['z'] = row[coord_fields['z']]\n",
    "    return Point(p_dict)"
   ]
  },
  {
   "cell_type": "code",
   "execution_count": 5,
   "metadata": {
    "collapsed": true
   },
   "outputs": [],
   "source": [
    "# loop through csvs, build spatial dataframe, upload layers to GIS, move to new folder\n",
    "for i, csv_path in enumerate(csv_paths):\n",
    "    df = pd.read_csv(csv_path)\n",
    "    df_geom = df.apply(lambda row: get_point_for_row(row, coord_fields), axis=1)\n",
    "    sdf = SpatialDataFrame(data=df, geometry=df_geom)\n",
    "    \n",
    "    title = os.path.splitext(os.path.basename(csv_path))[0]\n",
    "    csv_lyr = gis.content.import_data(sdf, title=title)\n",
    "    csv_lyr.move(gis_folder)\n",
    "    \n",
    "    print(\"{0}/{1}\".format(i + 1, n_paths))"
   ]
  }
 ],
 "metadata": {
  "kernelspec": {
   "display_name": "Python 3",
   "language": "python",
   "name": "python3"
  },
  "language_info": {
   "codemirror_mode": {
    "name": "ipython",
    "version": 3
   },
   "file_extension": ".py",
   "mimetype": "text/x-python",
   "name": "python",
   "nbconvert_exporter": "python",
   "pygments_lexer": "ipython3",
   "version": "3.6.3"
  }
 },
 "nbformat": 4,
 "nbformat_minor": 2
}
